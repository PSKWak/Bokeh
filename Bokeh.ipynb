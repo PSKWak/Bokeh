{
 "cells": [
  {
   "cell_type": "code",
   "execution_count": 11,
   "id": "8003d6b3-7504-470f-abfe-a8712a929e8c",
   "metadata": {},
   "outputs": [],
   "source": [
    "from bokeh.plotting import figure\n",
    "from bokeh.io import output_file,show\n",
    "x = [1,2,3,4,5,6]\n",
    "y = [1,2,3,4,5,6]\n",
    "p = figure(title= 'Simple line example',\n",
    "              x_axis_label ='x',\n",
    "              y_axis_label ='y')\n",
    "p.line(x,y, legend_label= 'Temp.',line_width =2)\n",
    "output_file('lines.html')\n",
    "show(p)"
   ]
  },
  {
   "cell_type": "code",
   "execution_count": 21,
   "id": "4172a4ce-a692-47eb-87a4-044833579881",
   "metadata": {},
   "outputs": [],
   "source": [
    "import numpy as np\n",
    "import pandas as pd\n",
    "#df = pd.dataframe(np.array([33.9,4,28,'US'],[24.9,34,67,'Asia'],[46,95.6,87,'Europe']),columns=['mpg','cyl','hp','origin'],index=['Toyota','Fial','Audi'])\n",
    "data = np.array([[33.9, 4, 28, 'US'], [24.9, 34, 67, 'Asia'], [46, 95.6, 87, 'Europe']])\n",
    "df = pd.DataFrame(data, columns=['mpg', 'cyl', 'hp', 'origin'], index=['Toyota', 'Fial', 'Audi'])\n",
    "from bokeh.models import ColumnDataSource\n",
    "cds_df = ColumnDataSource(df)"
   ]
  },
  {
   "cell_type": "code",
   "execution_count": 29,
   "id": "760281e7-7e70-4407-b519-21b141c3f79c",
   "metadata": {},
   "outputs": [
    {
     "name": "stderr",
     "output_type": "stream",
     "text": [
      "WARNING:bokeh.core.validation.check:W-1000 (MISSING_RENDERERS): Plot has no renderers: figure(id='p1187', ...)\n",
      "WARNING:bokeh.core.validation.check:W-1000 (MISSING_RENDERERS): Plot has no renderers: figure(id='p1215', ...)\n",
      "WARNING:bokeh.core.validation.check:W-1000 (MISSING_RENDERERS): Plot has no renderers: figure(id='p1249', ...)\n"
     ]
    }
   ],
   "source": [
    "from bokeh.plotting import figure, show\n",
    "\n",
    "# Creating the first plot (p1) with pan and box_zoom tools\n",
    "p1 = figure(width=300, tools='pan,box_zoom')\n",
    "\n",
    "# Creating the second plot (p2) with specified x_range and y_range\n",
    "p2 = figure(width=300, height=300, x_range=(0, 8), y_range=(0, 8))\n",
    "\n",
    "# Creating the third plot (p3), which will have default settings\n",
    "p3 = figure()\n",
    "\n",
    "# Displaying the plots (to view them separately or arrange them later)\n",
    "show(p1)\n",
    "show(p2)\n",
    "show(p3)\n"
   ]
  }
 ],
 "metadata": {
  "kernelspec": {
   "display_name": "Python 3 (ipykernel)",
   "language": "python",
   "name": "python3"
  },
  "language_info": {
   "codemirror_mode": {
    "name": "ipython",
    "version": 3
   },
   "file_extension": ".py",
   "mimetype": "text/x-python",
   "name": "python",
   "nbconvert_exporter": "python",
   "pygments_lexer": "ipython3",
   "version": "3.12.4"
  }
 },
 "nbformat": 4,
 "nbformat_minor": 5
}
